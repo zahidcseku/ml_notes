{
 "cells": [
  {
   "cell_type": "markdown",
   "id": "f351bfbf",
   "metadata": {},
   "source": [
    "# Disentangling the LSTM model\n",
    "\n",
    "Long Short Term Memory or LSTM is a popular model for sequence data. It is also a source of many confusions\n",
    "for new learner. In this tutorial, I explain the LSTM from various perspective to make it understandable\n",
    "to the new learners.\n",
    "\n",
    "```{note}\n",
    "There are abundance of online materials including videos and blogs to learn LSTM. I have learned a lot\n",
    "from those sources (I listed a few at the end). I encourage everyone to read and learn from as many\n",
    "sources as you can.\n",
    "```\n",
    "\n",
    "Long Short Term Memory or LSTM is a popular neural network model for sequence data. At the same time,\n",
    "it is a source of much confusion for new learners. LSTM belongs to the family of Recurrent Neural\n",
    "Networks (RNN). In this tutorial, I will explain the LSTM from various perspectives to make it more\n",
    "understandable. There are many online materials including videos and blogs to learn LSTM. I have learned\n",
    "much from those sources (I listed a few at the end). I encourage everyone to read and learn from as\n",
    "many sources as possible.\n",
    "\n",
    "I assume that you are convinced that LSTM is good for sequence data and can memorise the\n",
    "order in sequence data. If you are not familiar with this please read [**The Unreasonable Effectiveness\n",
    "of Recurrent Neural Networks**](https://karpathy.github.io/2015/05/21/rnn-effectiveness/) and [**Understanding\n",
    "LSTM Networks**](https://colah.github.io/posts/2015-08-Understanding-LSTMs/). More than $90\\%$ resources on\n",
    "RNN and LSTM include one of the figures (or a variation of them) shown below.\n",
    "\n",
    "```{figure} figure1.png\n",
    "---\n",
    "name: figure1_rnn\n",
    "width: 450px\n",
    "align: center\n",
    "---\n",
    "The most common illustrations on RNN and LSTM. (a) Time unrolled RNN model showing how RNNs process\n",
    "inputs sequentially. Remember there is a single network processing the inputs. This image is illustrating the\n",
    "recurrence relations among the inputs. (b) The inner connections in the LSTM model. (c) Showing variations of RNNs\n",
    "based of the number of inputs and outputs. I will not discuss about all the variations in this article. I will\n",
    "only mention in which category our examples belong.\n",
    "\n",
    "Image sources: [**The Unreasonable Effectiveness of Recurrent Neural Networks**]\n",
    "(https://karpathy.github.io/2015/05/21/rnn-effectiveness/),  [**Understanding LSTM Networks**]\n",
    "(https://colah.github.io/posts/2015-08-Understanding-LSTMs/)\n",
    "```\n",
    "\n",
    "\n",
    "\n",
    "## Computations in feed forward network\n",
    "Before discussing LSTM, let's talk about simple feed forward neural networks (aka multi layer perceptrons or MLP). I like to think of a neural network as computational unit or a parametric function $f_{\\Theta}(.)$ that takes numeric inputs ($\\mathbf X$) of a certain dimension $n_X$ and produces outputs ($\\mathbf y$) of dimension $n_y$ through a series of computations arranged in layers i.e., $\\mathbf y = f_\\Theta(\\mathbf X)$ where $\\Theta$ is the set of parameters i.e., weights and biases. If we have a three layer network then $\\Theta$ includes weights and biases corresponding to the three layers $\\{\\mathbf W^{[1]}, \\mathbf W^{[2]}, \\mathbf W^{[3]}, \\mathbf b^{[1]}, \\mathbf b^{[2]}, \\mathbf b^{[3]}\\}$. (Read [Deep neural network notaion](https://zahidcseku.github.io/ml_notes/notations/notations.html) for a detailed discussion on deep neural network notations and computations).\n",
    "\n",
    "```{note}\n",
    "The input to a neuron unit can be of any dimension (depends on the input features or the dimension of the preceding layer's output), but an individual unit always provides one output. This implies that the number of units in a layer depends on the desired output dimension of the layer. \n",
    "```\n",
    "\n",
    "\n",
    "### Code example\n",
    "\n",
    "Let's generate a dataset $\\mathbf X$ with $n_\\mathcal D$ instances and feed $\\mathbf X$ to a 2-layer MLP with $n^{[1]}=8$ and $n^{[2]}=1$ neuron units ($n^{[l]}$ represents the number of units in layer $l$). From the network, we get $n_y =1$ dimensional outputs $\\mathbf y$ for each instance in $\\mathbf X$."
   ]
  },
  {
   "cell_type": "code",
   "execution_count": 1,
   "id": "a2c42f92",
   "metadata": {},
   "outputs": [
    {
     "name": "stdout",
     "output_type": "stream",
     "text": [
      "tensor([[-0.1577],\n",
      "        [-0.2189],\n",
      "        [-0.0259],\n",
      "        [-0.1958],\n",
      "        [-0.1014],\n",
      "        [-0.1586],\n",
      "        [-0.1229],\n",
      "        [-0.0896],\n",
      "        [-0.2659],\n",
      "        [-0.1368],\n",
      "        [-0.0990],\n",
      "        [-0.1736],\n",
      "        [-0.2403],\n",
      "        [-0.1999],\n",
      "        [-0.0995]], grad_fn=<AddmmBackward0>)\n"
     ]
    }
   ],
   "source": [
    "import torch\n",
    "import torch.nn as nn\n",
    "\n",
    "nd, nx = 15, 5\n",
    "\n",
    "# number of units per layer\n",
    "n1, n2 = 8, 1\n",
    "\n",
    "# generating random inputs\n",
    "X = torch.rand(nd, nx)\n",
    "\n",
    "# create the model\n",
    "layer1 = nn.Linear(nx, 8)\n",
    "layer2 = nn.Linear(8, n2)\n",
    "\n",
    "net = nn.Sequential(layer1, layer2)\n",
    "\n",
    "# feed the inputs to the network\n",
    "y = net(X)\n",
    "\n",
    "print(y)"
   ]
  },
  {
   "cell_type": "markdown",
   "id": "b93936dd",
   "metadata": {},
   "source": [
    "Here, `net()` transforms $\\mathbf X \\in \\mathbb R^5$ to produce outputs $\\mathbf y\\in\\mathbb R$. First, `layer1` takes $\\mathbf X$ and produces outputs $\\mathbf a^{[1]}$ (dimension $(n_\\mathcal D, n^{[1]})$). Then, ativations $\\mathbf a^{[1]}$ are fed to `layer2` and layer 2 generates $\\mathbf a^{[2]} = \\mathbf y$ (dimension $(n_\\mathcal D, n_y)$). We consider liner activations in all layers. \n",
    "\n",
    "From [PyTorch documentation](https://pytorch.org/docs/stable/generated/torch.nn.Linear.html) we find: `nn.Linear` transforms the data as $y = xA^\\top + b$. We also learn that the shapes of the weights $A$ are `(out_features, in_features)` and biases are `(out_features)`. Hence, for PyTorch, the shapes of weights and biases of layer 1 are `shape($A^{[1]}$)` = $(n^{[1]}, n_X)$ = $(8, 5)$ and `shape($b^{[1]}$)=$8$`. The shapes of weights and biases of layer 2 are `shape($A^{[2]}$)` = $(n^{[2]}, n^{[1]})$ = $(1, 8)$ and `shape($b^{[2]}$)`=$1$. Let’s check the shapes in pytorch:"
   ]
  },
  {
   "cell_type": "code",
   "execution_count": 2,
   "id": "c4617358",
   "metadata": {},
   "outputs": [
    {
     "name": "stdout",
     "output_type": "stream",
     "text": [
      "Shape of layer 1 weight matrix: torch.Size([8, 5])\n",
      "Shape of layer 1 bias vector: torch.Size([8])\n",
      "Shape of layer 2 weight matrix: torch.Size([1, 8])\n",
      "Shape of layer 2 bias vector: torch.Size([1])\n"
     ]
    }
   ],
   "source": [
    "print(f\"Shape of layer 1 weight matrix: {layer1.weight.size()}\")\n",
    "print(f\"Shape of layer 1 bias vector: {layer1.bias.size()}\")\n",
    "print(f\"Shape of layer 2 weight matrix: {layer2.weight.size()}\")\n",
    "print(f\"Shape of layer 2 bias vector: {layer2.bias.size()}\")"
   ]
  },
  {
   "cell_type": "markdown",
   "id": "c1f8a7d2",
   "metadata": {},
   "source": [
    "We can investigate the outputs of the layers using the equation  $y = xA^\\top + b$. The layer wise computations can be given by:\n",
    "\n",
    "$$\n",
    "a^{[1]} = xA^{[1]\\top} + b^{[1]}\\\\\n",
    "a^{[2]} = xA^{[2]\\top} + b^{[2]}\n",
    "$$\n",
    "\n",
    "For layer 1 outputs we used $a$ to represent activations and for layer 2 the activations $a^{[2]}$ are the outputs $\\mathbf y$. We can implement the equation in PyTorch without passing the inputs through the `net()`:"
   ]
  },
  {
   "cell_type": "code",
   "execution_count": 3,
   "id": "139f0154",
   "metadata": {},
   "outputs": [
    {
     "name": "stdout",
     "output_type": "stream",
     "text": [
      "Layer 1 outputs using pytorch and equation are same: True\n",
      "Layer 2 outputs using pytorch and equation are same: True\n"
     ]
    }
   ],
   "source": [
    "# output using pytorch layer\n",
    "a1 = layer1(X)\n",
    "\n",
    "# output using equation\n",
    "# get the weights and biases in layer 1\n",
    "w1 = layer1.weight.data\n",
    "b1 = layer1.bias.data\n",
    "a1_eq = torch.matmul(X, w1.T) + b1\n",
    "\n",
    "print(f\"Layer 1 outputs using pytorch and equation are same: {torch.equal(a1,a1_eq)}\")\n",
    "\n",
    "# output using pytorch layer\n",
    "a2 = layer2(a1)\n",
    "\n",
    "# output using equation\n",
    "# get the weights and biases in layer 2\n",
    "w2 = layer2.weight.data\n",
    "b2 = layer2.bias.data\n",
    "a2_eq = torch.matmul(a1, w2.T) + b2\n",
    "\n",
    "print(f\"Layer 2 outputs using pytorch and equation are same: {torch.equal(a2,a2_eq)}\")"
   ]
  },
  {
   "cell_type": "markdown",
   "id": "6ce42e48",
   "metadata": {},
   "source": [
    "The network processes $n_\\mathcal D$ instances at a time through matrix multiplication. However, we can achieve the same results using a loop as follows (this simple exercise will help us understand LSTM computations discussed below). \n",
    "\n",
    "```python\n",
    "# initialize a variable same shape as y to store the step wise results\n",
    "loop_y = torch.zeros_like(y)\n",
    "\n",
    "for i in range(X.size()[0]):\n",
    "    loop_y[i] = net(X[i])\n",
    "\n",
    "print(loop_y)\n",
    "```\n",
    "\n",
    "```{note}\n",
    "When implementing neural networks using any framework, such as PyTorch, Keras, TensorFlow, etc., it's important to understand the inputs and outputs specific to that framework. This article will focus on PyTorch.\n",
    "```\n",
    "\n",
    "From PyTorch documentation we find the input and output specification of linear layer `nn.Linear` as input: $(*, H_{in})$ and output: $(*, H_{out})$. $H_{in}$ and $H_{out}$ are the input and output dimensions of a layer. According to the above example task for the first layer $H_{in}=5$ and $H_{out}=8$. The $*$ symbol means that whatever many of $H_{in}$ dimensional instances we feed into the linear layer we get the same number of $H_{out}$ dimensional outputs. The $*$ depends on the batch size (the batch size is the number of instances we want to process at a time). For a batch size of 15 the inputs will be $(15, 5)$ and outputs of the layer will be $(15, 8)$.\n",
    "\n",
    "\n",
    "## What is sequence data anyway?\n",
    "**Difference between - input dimension, sequence length and batch size.** \n",
    "\n",
    "LSTM models process sequence data. Sequence data refers to **any data where the order of instances is important**. Text data, which is often used to explain LSTM models, is a prime example of sequence data. The order of words in a sentence can significantly influence its meaning. For instance, the same words can convey different meanings based on their context or position. Time series data, where observations are collected with timestamps, is another example of sequence data. The timestamps establish the sequence of the observations.\n",
    "\n",
    "Let's consider a dataset $\\mathbf X$ consisting of $n_S$ sequences. Each sequence $\\mathbf X^{<s>} \\in \\mathbf X$ is made up of $n_E$ elements. Notice the $\\_^{<>}$ notation in sequences which is different from $\\_^{()}$. We use $\\_^{(i)}$ to indicate the $i$-th instance in a flat dataset. Each element $\\mathbf x_e^{<s>}|(s=1,2,\\dots,n_S)$ of a sequence $\\mathbf X^{<s>} \\in \\mathbf X$ consists of $n_X$ real numbers, meaning $\\mathbf x_e^{<s>}$ is a $n_X$ dimensional vector.\n",
    "\n",
    "In sequence data, both the length of the sequence $\\mathbf X^{<s>}$, $n_E$ in our notation, and the length of each element $\\mathbf x_e^{<s>}$, $n_X$ in our notation, within the sequence are important considerations. Remember that each input must be a sequence of $n_E$ elements, with each element being a vector of a certain length $n_X$.\n",
    "\n",
    "\n",
    "$\\mathbf X = [\\mathbf X^{<1>}, \\mathbf X^{<2>},\\dots, \\mathbf X^{<n_S>}]$\n",
    "\n",
    "$\\mathbf X^{<s>} = [\\mathbf x^{<s>}_1, \\mathbf x^{<s>}_2, \\dots, \\mathbf x^{<s>}_{n_E}]$\n",
    "\n",
    "$\\mathbf X^{<s>} = [\\mathbf X^{<s>(1)}, \\mathbf X^{<s>(2)}, \\dots, \\mathbf X^{<s>(n_E)}]$\n",
    "\n",
    "$\\mathbf X^{<s>} = [\\mathbf X^{<s>}_1, \\mathbf X^{<s>}_2, \\dots, \\mathbf X^{<s>}_{n_E}]$\n",
    "\n",
    "$\\mathbf x_e^{<s>}=[x^{<s>}_{e1}, x^{<s>}_{e2}, \\dots, x^{<s>}_{en_X}]$\n",
    "\n",
    "Inputs to an LSTM layer can be batched or unbatched. Unbatched inputs require a 2D tensor of shape $(n_E, n_X)$, meaning there are $n_E$ elements each with $n_X$ values. Batched inputs, on the other hand, are a collection of sequences. The shape of batched inputs is similar to the shape of our dataset $\\mathbf X$ $(b_S, n_E, n_X)$, indicating that there are $b_S$ sequences $\\mathbf X^{<1>}, \\dots , \\mathbf X^{<b_S>}$, and each $\\mathbf X^{<s>}$ is a $(n_E, n_X)$ dimensional tensor. Usually, $b_S<n_S$. We call $b_S$ the **batch size**. \n",
    "\n",
    "| Symbol | Dimension | Definition |\n",
    "| --- | --- | --- |\n",
    "| $\\mathbf X$ | $(n_S, n_E, n_X)$ | A data set consisting of $n_S$ sequences of length $n_E$. Each element in a sequence in $\\mathbf X$ is $n_X$ dimensional.  |\n",
    "| $n_S$ | 1 | Number of sequences in the dataset. |\n",
    "| $n_E$ | 1 | Number of elements in each sequence. We call this the sequence length. |\n",
    "| $n_X$ | 1 | Number of values in each element. We call this the input dimension or the input size. |\n",
    "| $b_S$ | 1 | Number of sequences in a batch. We call this the batch size. |\n",
    "| $\\mathbf X^{<s>}$ | $(n_E, n_X)$ | The $s$-th sequence in our dataset.   |\n",
    "| $\\mathbf x_e^{<s>}$  | $(1, n_X)$ | The $e$-th element of the $s$-th sequence. |\n",
    "| $x^{<s>}_{ei}$ | 1 | A real value corresponding to the $i$-th dimension of the $e$-th element of the $s$-th sequence.  |\n",
    "\n",
    "Let’s see two examples of sequence data using our notation. \n",
    "\n",
    "### Example (text data)\n",
    "The IMDB dataset contains 50,000 movie reviews, labeled as positive or negative. Each review is a sequence of words, and the machine learning task is to predict the sentiment of the review. What are the $n_S$, $n_E$, and $n_X$?\n",
    "\n",
    "Each review is a sequence of words i.e., there are 50,000 sequences in the dataset ($n_S = 50000$). Each review has a certain number of words. Let’s restrict the number of words in the reviews to be 100 i.e., if a review has more than 100 words, we ignore the rest and if it has less than 100 words we add a special marker called `pad`. This gives the sequence length $n_E = 100$. We cannot use “words” as input to our neural net. We first need to convert the words to a numeric representation. The representations are known as word embeddings. After the transformation of the words to numbers, we get certain dimensional vectors for each word. This embedding dimension is our $n_X$. If we choose the embedding dimension to be 512 then $n_X=512$. To summarize, $\\mathbf X \\in \\mathbb R^{50000\\times100\\times512}$ includes 50000 reviews, $\\mathbf X^{<s>} \\in \\mathbb R^{100\\times512}$, $\\mathbf x_e^{<s>} \\in \\mathbb R^{100}$ and $x_{ei}^{<s>} \\in \\mathbb R$ is the actual number corresponding to the $i$-th embedding dimension of the $e$-th word in the $s$-th review. The batch size $b_S$ depends on the developer.\n",
    "\n",
    "### Example (non text data)\n",
    "The [Daily Minimum Temperatures in Melbourne](https://archive.ics.uci.edu/ml/machine-learning-databases/00356/daily-min-temperatures.csv) dataset contains daily minimum temperatures in Melbourne, Australia, recorded over 10 years. Each data point is a temperature reading, and the machine learning task is to predict future temperatures based on past readings. Each temperature reading is part of a time series. The value at each time step depends on previous values.\n",
    "\n",
    "For 10 years, we have roughly 3650 records. If we consider the prediction task is to predict the next month's average temperature based on past months' temperatures, then we have $n_S = 1216$ sequences. Each sequence $\\mathbf X^{<s>}$ has 30 elements, i.e., $n_E=30$. Each element $\\mathbf x_e^{<s>}$ has the corresponding temperature, i.e., $n_X=1$. For this example, $\\mathbf x_e^{<s>}=x_{ei}^{<s>}$ as we only have 1D observations. Again, batch size $b_S$ depends on the developer.\n",
    "\n",
    "\n",
    "## Architectures (ref: {ref}`Figure <figure1_rnn>` (c))\n",
    "\n",
    "Both of the above examples use the **many-to-one** architecture ({ref}`Figure <figure1_rnn>`(c)) because they involve processing a sequence of inputs to produce a single output. For the sentiment analysis task, the input is a sequence of words (many), and the output is a single sentiment label (one). The model processes the entire sequence of words to predict whether the review is positive or negative. For the second example, the input is a sequence of temperature readings over 30 days (many), and the output is the temperature for the next day (one). The model uses the sequence of past temperatures to predict the next value.\n",
    "\n",
    "In both cases, the RNN (or LSTM) processes each sequence, maintaining a hidden state that captures the context, and finally produces a single output representing the sentiment or temperature."
   ]
  }
 ],
 "metadata": {
  "jupytext": {
   "formats": "md:myst",
   "text_representation": {
    "extension": ".md",
    "format_name": "myst"
   }
  },
  "kernelspec": {
   "display_name": "Python 3",
   "language": "python",
   "name": "python3"
  },
  "language_info": {
   "codemirror_mode": {
    "name": "ipython",
    "version": 3
   },
   "file_extension": ".py",
   "mimetype": "text/x-python",
   "name": "python",
   "nbconvert_exporter": "python",
   "pygments_lexer": "ipython3",
   "version": "3.11.9"
  },
  "source_map": [
   11,
   69,
   91,
   97,
   102,
   113,
   135
  ]
 },
 "nbformat": 4,
 "nbformat_minor": 5
}