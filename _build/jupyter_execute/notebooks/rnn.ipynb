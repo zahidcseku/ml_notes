{
 "cells": [
  {
   "cell_type": "code",
   "execution_count": 1,
   "id": "8fdc00ec-712f-495f-bb7e-5f5bb38cd80d",
   "metadata": {},
   "outputs": [],
   "source": [
    "import numpy as np\n",
    "\n",
    "nx, nl = 5, 8\n",
    "\n",
    "x = np.random.rand(1, nx)\n",
    "W = np.random.rand(nl, nx)\n",
    "b = np.random.rand(nl, 1)"
   ]
  },
  {
   "cell_type": "code",
   "execution_count": 2,
   "id": "a709a770-d08b-42c9-adaf-5276ad375f2d",
   "metadata": {},
   "outputs": [
    {
     "data": {
      "text/plain": [
       "array([[0.17787518, 0.86299149, 0.07910303, 0.69165295, 0.07596235]])"
      ]
     },
     "execution_count": 2,
     "metadata": {},
     "output_type": "execute_result"
    }
   ],
   "source": [
    "x"
   ]
  },
  {
   "cell_type": "code",
   "execution_count": 3,
   "id": "1cf97264-dfb2-4dc2-b538-bbad7734f5d6",
   "metadata": {},
   "outputs": [
    {
     "data": {
      "text/plain": [
       "array([[0.4627152 , 0.96383092, 0.07372672, 0.33741536, 0.07921071],\n",
       "       [0.13590913, 0.44754247, 0.50621953, 0.44108642, 0.9773853 ],\n",
       "       [0.94429355, 0.54739971, 0.62222561, 0.67260941, 0.71097782],\n",
       "       [0.22054781, 0.4784106 , 0.36301165, 0.2784047 , 0.53131027],\n",
       "       [0.42994266, 0.0198255 , 0.16704641, 0.62725969, 0.42009833],\n",
       "       [0.15749433, 0.40833651, 0.48054775, 0.18908155, 0.03649211],\n",
       "       [0.79680566, 0.96267646, 0.18624779, 0.59326917, 0.60142159],\n",
       "       [0.23277045, 0.03801724, 0.32300443, 0.3181788 , 0.48317954]])"
      ]
     },
     "execution_count": 3,
     "metadata": {},
     "output_type": "execute_result"
    }
   ],
   "source": [
    "W"
   ]
  },
  {
   "cell_type": "code",
   "execution_count": 4,
   "id": "01c5a8bb-3f77-4895-8bea-f3ae78717c25",
   "metadata": {},
   "outputs": [
    {
     "data": {
      "text/plain": [
       "array([[0.8898765 ],\n",
       "       [0.71547119],\n",
       "       [0.47856412],\n",
       "       [0.06006578],\n",
       "       [0.6159061 ],\n",
       "       [0.65971039],\n",
       "       [0.35883692],\n",
       "       [0.62598387]])"
      ]
     },
     "execution_count": 4,
     "metadata": {},
     "output_type": "execute_result"
    }
   ],
   "source": [
    "b"
   ]
  },
  {
   "cell_type": "code",
   "execution_count": 5,
   "id": "7ff7a3f5-3396-4d26-91c7-2d5a7d155cc3",
   "metadata": {},
   "outputs": [
    {
     "data": {
      "text/plain": [
       "array([[2.0491833 ],\n",
       "       [1.54523811],\n",
       "       [1.68737156],\n",
       "       [0.77379436],\n",
       "       [1.18846301],\n",
       "       [1.21167928],\n",
       "       [1.802105  ],\n",
       "       [0.9825199 ]])"
      ]
     },
     "execution_count": 5,
     "metadata": {},
     "output_type": "execute_result"
    }
   ],
   "source": [
    "z = np.matmul(W, x.T) + b\n",
    "z"
   ]
  },
  {
   "cell_type": "code",
   "execution_count": 6,
   "id": "778609a6-08a5-4868-8ba6-f16a2d5e6b22",
   "metadata": {},
   "outputs": [
    {
     "data": {
      "text/plain": [
       "((1, 5), (8, 5), (8, 1), (8, 1))"
      ]
     },
     "execution_count": 6,
     "metadata": {},
     "output_type": "execute_result"
    }
   ],
   "source": [
    "x.shape, W.shape, b.shape, z.shape"
   ]
  },
  {
   "cell_type": "code",
   "execution_count": 7,
   "id": "dc767781-ff4a-4f6b-b219-e4eb4f83fc3f",
   "metadata": {},
   "outputs": [
    {
     "data": {
      "text/plain": [
       "array([[0.17787518, 0.86299149, 0.07910303, 0.69165295, 0.07596235]])"
      ]
     },
     "execution_count": 7,
     "metadata": {},
     "output_type": "execute_result"
    }
   ],
   "source": [
    "x"
   ]
  },
  {
   "cell_type": "code",
   "execution_count": 8,
   "id": "8620faf0-b4f3-4dd2-8987-d916ff84409e",
   "metadata": {},
   "outputs": [
    {
     "ename": "NameError",
     "evalue": "name 'i' is not defined",
     "output_type": "error",
     "traceback": [
      "\u001b[0;31m---------------------------------------------------------------------------\u001b[0m",
      "\u001b[0;31mNameError\u001b[0m                                 Traceback (most recent call last)",
      "Cell \u001b[0;32mIn[8], line 1\u001b[0m\n\u001b[0;32m----> 1\u001b[0m W[\u001b[43mi\u001b[49m][j]\n",
      "\u001b[0;31mNameError\u001b[0m: name 'i' is not defined"
     ]
    }
   ],
   "source": [
    "W[i][j]"
   ]
  },
  {
   "cell_type": "code",
   "execution_count": 30,
   "id": "30e9b796-7c55-4fe5-b323-662d0b18e9d3",
   "metadata": {},
   "outputs": [
    {
     "data": {
      "text/plain": [
       "0.19104794746241538"
      ]
     },
     "execution_count": 30,
     "metadata": {},
     "output_type": "execute_result"
    }
   ],
   "source": [
    "x[0][j]"
   ]
  },
  {
   "cell_type": "code",
   "execution_count": 36,
   "id": "a20e355e-0b83-4b34-b49f-a18ff0eb877d",
   "metadata": {},
   "outputs": [
    {
     "data": {
      "text/plain": [
       "[1.3359164276804185,\n",
       " 1.1908660978508552,\n",
       " 1.740008757090468,\n",
       " 1.2645889350506683,\n",
       " 1.5316883864471422,\n",
       " 0.8802054451461725,\n",
       " 2.0760973511924496,\n",
       " 1.6153299875643692]"
      ]
     },
     "execution_count": 36,
     "metadata": {},
     "output_type": "execute_result"
    }
   ],
   "source": [
    "output = []\n",
    "for i in range(nl):\n",
    "    z = 0\n",
    "    for j in range(nx):\n",
    "        z += W[i][j] * x[0][j]\n",
    "    z += b[i][0]\n",
    "\t#a = sigma(z)\n",
    "    output.append(z)\n",
    "output"
   ]
  },
  {
   "cell_type": "code",
   "execution_count": 49,
   "id": "f0768cc0-c2ba-47dd-b45d-81bc6b65dad5",
   "metadata": {},
   "outputs": [
    {
     "name": "stdout",
     "output_type": "stream",
     "text": [
      "Shape of a1: (8, 10)\n",
      "Shape of a2: (12, 10)\n",
      "Shape of a3: (2, 10)\n",
      "Outputs of the network:\n",
      "[[42.32577663 38.25657388 38.793039   51.37741944 50.25508806 43.39397785\n",
      "  38.70736228 39.76630318 42.07832858 49.0518998 ]\n",
      " [43.38407575 39.19592829 39.95172035 52.52103437 51.25087396 44.46149484\n",
      "  39.68241389 41.03009743 43.07179737 50.08075683]]\n"
     ]
    }
   ],
   "source": [
    "import numpy as np\n",
    "\n",
    "nd, nx, nl = 10, 5, 3\n",
    "n1, n2, n3 = 8, 12, 2\n",
    "\n",
    "# input and parameters initializations\n",
    "x = np.random.rand(nd, nx)\n",
    "W1 = np.random.rand(n1, nx)\n",
    "b1 = np.random.rand(n1, 1)\n",
    "W2 = np.random.rand(n2, n1)\n",
    "b2 = np.random.rand(n2, 1)\n",
    "W3 = np.random.rand(n3, n2)\n",
    "b3 = np.random.rand(n3, 1)\n",
    "\n",
    "# layer wise computations\n",
    "a0 = x.T\n",
    "a1 = np.matmul(W1, a0) + b1\n",
    "print(f\"Shape of a1: {a1.shape}\")\n",
    "\n",
    "a2 = np.matmul(W2, a1) + b2\n",
    "print(f\"Shape of a2: {a2.shape}\")\n",
    "\n",
    "a3 = np.matmul(W3, a2) + b3\n",
    "print(f\"Shape of a3: {a3.shape}\")\n",
    "\n",
    "print(f\"Outputs of the network:\") \n",
    "print(a3)"
   ]
  },
  {
   "cell_type": "code",
   "execution_count": 45,
   "id": "56a1842f-afbb-4ace-ad1e-8179d83dad33",
   "metadata": {},
   "outputs": [],
   "source": [
    "import torch \n",
    "\n",
    "import torch.nn as nn\n",
    "\n",
    "l1 = nn.Linear(nx, n1)\n",
    "l2 = nn.Linear(n1, n2)\n",
    "l3 = nn.Linear(n2, n3)\n",
    "\n",
    "tensorX = torch.from_numpy(x)"
   ]
  },
  {
   "cell_type": "code",
   "execution_count": 46,
   "id": "ad674d4d-40a2-4525-b77a-dbc96dd195b8",
   "metadata": {},
   "outputs": [
    {
     "data": {
      "text/plain": [
       "torch.Size([8])"
      ]
     },
     "execution_count": 46,
     "metadata": {},
     "output_type": "execute_result"
    }
   ],
   "source": [
    "l1.bias.data.shape"
   ]
  },
  {
   "cell_type": "code",
   "execution_count": 47,
   "id": "93d31b2f-030e-4c31-ab43-6d8d4e6b393b",
   "metadata": {},
   "outputs": [
    {
     "name": "stdout",
     "output_type": "stream",
     "text": [
      "Shape of a1: torch.Size([10, 8])\n"
     ]
    }
   ],
   "source": [
    "# initialize same weights\n",
    "l1.weight.data = torch.from_numpy(W1)\n",
    "l1.bias.data = torch.from_numpy(b1.squeeze())\n",
    "\n",
    "l2.weight.data = torch.from_numpy(W2)\n",
    "l2.bias.data = torch.from_numpy(b2.squeeze())\n",
    "\n",
    "l3.weight.data = torch.from_numpy(W3)\n",
    "l3.bias.data = torch.from_numpy(b3.squeeze())\n",
    "\n",
    "a1 = l1(tensorX)\n",
    "print(f\"Shape of a1: {a1.shape}\")"
   ]
  },
  {
   "cell_type": "code",
   "execution_count": 48,
   "id": "ea1de5a7-888c-405f-bdf4-dd5702cdfd26",
   "metadata": {},
   "outputs": [
    {
     "name": "stdout",
     "output_type": "stream",
     "text": [
      "Shape of a1: torch.Size([10, 12])\n",
      "Shape of a3: torch.Size([10, 2])\n",
      "tensor([[47.5938, 47.6577],\n",
      "        [41.8636, 41.9331],\n",
      "        [49.3240, 49.2304],\n",
      "        [56.3790, 56.3068],\n",
      "        [60.5699, 60.3729],\n",
      "        [67.4708, 67.3726],\n",
      "        [46.0356, 45.7477],\n",
      "        [49.1432, 48.5770],\n",
      "        [39.6412, 39.7168],\n",
      "        [56.5418, 56.5354]], dtype=torch.float64, grad_fn=<AddmmBackward0>)\n"
     ]
    }
   ],
   "source": [
    "a2 = l2(a1)\n",
    "print(f\"Shape of a1: {a2.shape}\")\n",
    "\n",
    "a3 = l3(a2)\n",
    "print(f\"Shape of a3: {a3.shape}\")\n",
    "\n",
    "print(a3)"
   ]
  },
  {
   "cell_type": "code",
   "execution_count": null,
   "id": "bdf57573-8ce1-44dd-bff8-ccae9294a9e7",
   "metadata": {},
   "outputs": [],
   "source": []
  },
  {
   "cell_type": "code",
   "execution_count": 51,
   "id": "d7003894-56b0-4f68-8077-dcfe89d9c075",
   "metadata": {},
   "outputs": [],
   "source": [
    "layer1 = nn.Linear(nx, 8)\n",
    "layer2 = nn.Linear(8, 1)\n",
    "\n",
    "net = nn.Sequential(layer1, layer2)"
   ]
  },
  {
   "cell_type": "code",
   "execution_count": 56,
   "id": "48d9ca26-a7ec-4705-a3f2-a3622839e939",
   "metadata": {},
   "outputs": [
    {
     "data": {
      "text/plain": [
       "tensor([[0.1316],\n",
       "        [0.1746],\n",
       "        [0.4524],\n",
       "        [0.1258],\n",
       "        [0.1228],\n",
       "        [0.0305],\n",
       "        [0.0638],\n",
       "        [0.4189],\n",
       "        [0.1141],\n",
       "        [0.2077]], grad_fn=<AddmmBackward0>)"
      ]
     },
     "execution_count": 56,
     "metadata": {},
     "output_type": "execute_result"
    }
   ],
   "source": [
    "net(tensorX.float())"
   ]
  },
  {
   "cell_type": "code",
   "execution_count": 58,
   "id": "92a38b58-cb6d-4d77-a436-6f1088dc269a",
   "metadata": {},
   "outputs": [
    {
     "data": {
      "text/plain": [
       "<bound method Module.parameters of Linear(in_features=5, out_features=8, bias=True)>"
      ]
     },
     "execution_count": 58,
     "metadata": {},
     "output_type": "execute_result"
    }
   ],
   "source": [
    "layer1.parameters."
   ]
  },
  {
   "cell_type": "code",
   "execution_count": 2,
   "id": "a62f4496-8623-4335-9b54-c25863b4621b",
   "metadata": {},
   "outputs": [
    {
     "name": "stdout",
     "output_type": "stream",
     "text": [
      "tensor([[-0.0874],\n",
      "        [ 0.0077],\n",
      "        [ 0.0467],\n",
      "        [-0.0368],\n",
      "        [-0.0522],\n",
      "        [-0.0352],\n",
      "        [-0.0660],\n",
      "        [-0.1449],\n",
      "        [-0.0448],\n",
      "        [-0.0585],\n",
      "        [-0.0644],\n",
      "        [ 0.0251],\n",
      "        [-0.0828],\n",
      "        [ 0.0262],\n",
      "        [-0.0222]], grad_fn=<AddmmBackward0>)\n"
     ]
    }
   ],
   "source": [
    "import torch\n",
    "import torch.nn as nn\n",
    "\n",
    "nd, nx, ny = 15, 5, 1\n",
    "\n",
    "# number of units per layer\n",
    "n1, n2 = 8, ny\n",
    "\n",
    "# generating random inputs\n",
    "X = torch.rand(nd, nx)\n",
    "\n",
    "# create the model\n",
    "layer1 = nn.Linear(nx, 8)\n",
    "layer2 = nn.Linear(8, ny)\n",
    "\n",
    "net = nn.Sequential(layer1, layer2)\n",
    "\n",
    "# feed the inputs to the network\n",
    "y = net(X)\n",
    "\n",
    "print(y)"
   ]
  },
  {
   "cell_type": "code",
   "execution_count": 6,
   "id": "c12cae6d-9681-4eb7-b74c-7ff98fcb5070",
   "metadata": {},
   "outputs": [
    {
     "data": {
      "text/plain": [
       "(torch.Size([15, 5]), torch.Size([15, 1]))"
      ]
     },
     "execution_count": 6,
     "metadata": {},
     "output_type": "execute_result"
    }
   ],
   "source": [
    "X.size(), y.size()"
   ]
  },
  {
   "cell_type": "code",
   "execution_count": 7,
   "id": "dbfffe2d-d427-4011-b172-aaf693cb87fb",
   "metadata": {},
   "outputs": [
    {
     "data": {
      "text/plain": [
       "torch.Size([15, 8])"
      ]
     },
     "execution_count": 7,
     "metadata": {},
     "output_type": "execute_result"
    }
   ],
   "source": [
    "a1 = layer1(X)\n",
    "a1.shape"
   ]
  },
  {
   "cell_type": "code",
   "execution_count": 8,
   "id": "467db33e-2828-42a5-9fba-e38917b2d745",
   "metadata": {},
   "outputs": [
    {
     "data": {
      "text/plain": [
       "torch.Size([15, 1])"
      ]
     },
     "execution_count": 8,
     "metadata": {},
     "output_type": "execute_result"
    }
   ],
   "source": [
    "a2 = layer2(a1)\n",
    "a2.shape"
   ]
  },
  {
   "cell_type": "code",
   "execution_count": 12,
   "id": "883a0f19-7172-485d-bebc-2d55390bc390",
   "metadata": {},
   "outputs": [
    {
     "name": "stdout",
     "output_type": "stream",
     "text": [
      "Shape of layer 1 weight matrix: torch.Size([8, 5])\n",
      "Shape of layer 1 bias vector: torch.Size([8])\n",
      "Shape of layer 2 weight matrix: torch.Size([1, 8])\n",
      "Shape of layer 2 bias vector: torch.Size([1])\n"
     ]
    }
   ],
   "source": [
    "print(f\"Shape of layer 1 weight matrix: {layer1.weight.size()}\")\n",
    "print(f\"Shape of layer 1 bias vector: {layer1.bias.size()}\")\n",
    "print(f\"Shape of layer 2 weight matrix: {layer2.weight.size()}\")\n",
    "print(f\"Shape of layer 2 bias vector: {layer2.bias.size()}\")"
   ]
  },
  {
   "cell_type": "code",
   "execution_count": 21,
   "id": "381cdc29-d82a-4877-bc2d-577ff4456084",
   "metadata": {},
   "outputs": [
    {
     "name": "stdout",
     "output_type": "stream",
     "text": [
      "Layer 1 outputs using pytorch and equation are same: True\n",
      "Layer 2 outputs using pytorch and equation are same: True\n"
     ]
    }
   ],
   "source": [
    "# output using pytorch layer\n",
    "a1 = layer1(X)\n",
    "\n",
    "# output using equation\n",
    "# get the weights and biases in layer 1\n",
    "w1 = layer1.weight.data\n",
    "b1 = layer1.bias.data\n",
    "a1_eq = torch.matmul(X, w1.T) + b1\n",
    "\n",
    "print(f\"Layer 1 outputs using pytorch and equation are same: {torch.equal(a1,a1_eq)}\")\n",
    "\n",
    "# output using pytorch layer\n",
    "y = layer2(a1)\n",
    "\n",
    "# output using equation\n",
    "# get the weights and biases in layer 2\n",
    "w2 = layer2.weight.data\n",
    "b2 = layer2.bias.data\n",
    "a2_eq = torch.matmul(a1, w2.T) + b2\n",
    "\n",
    "print(f\"Layer 2 outputs using pytorch and equation are same: {torch.equal(a2,a2_eq)}\")"
   ]
  },
  {
   "cell_type": "code",
   "execution_count": 18,
   "id": "46f684c1-8ca3-4663-9d1c-eed41123b386",
   "metadata": {},
   "outputs": [
    {
     "data": {
      "text/plain": [
       "torch.Size([15, 8])"
      ]
     },
     "execution_count": 18,
     "metadata": {},
     "output_type": "execute_result"
    }
   ],
   "source": [
    "a1.size()"
   ]
  },
  {
   "cell_type": "code",
   "execution_count": 15,
   "id": "0f25d4b2-d499-404d-8343-95f3a77739ae",
   "metadata": {},
   "outputs": [
    {
     "data": {
      "text/plain": [
       "tensor([[ 0.2938,  0.2804,  0.1864, -1.0719, -0.3100,  0.4171, -0.6768, -0.4951],\n",
       "        [-0.0168,  0.5160,  0.1586, -0.8783, -0.3247,  0.4362, -0.6849, -0.3100],\n",
       "        [ 0.0728,  0.4925,  0.0500, -1.5611, -0.2295,  1.0128, -1.2110, -0.7668],\n",
       "        [ 0.0559,  0.4410,  0.1214, -1.0129, -0.0785,  0.4003, -0.6379, -0.6821],\n",
       "        [-0.0299,  0.5090,  0.1316, -1.1781, -0.1768,  0.6810, -0.8994, -0.6171],\n",
       "        [ 0.0743,  0.3765,  0.2159, -1.2684,  0.0043,  0.6557, -0.8886, -0.9264],\n",
       "        [ 0.2716,  0.2559,  0.1998, -0.9441, -0.3341,  0.2832, -0.5235, -0.3417],\n",
       "        [-0.1167,  0.6045,  0.0032, -1.2044, -0.1450,  0.6960, -0.8780, -0.6016],\n",
       "        [ 0.1181,  0.4572,  0.0832, -1.4706, -0.2388,  0.9093, -1.1287, -0.7437],\n",
       "        [ 0.2152,  0.2754,  0.2461, -0.9803, -0.1120,  0.3083, -0.5719, -0.6760],\n",
       "        [ 0.1061,  0.3696,  0.1640, -1.0817, -0.0322,  0.4229, -0.6564, -0.7731],\n",
       "        [ 0.0941,  0.4238,  0.1482, -0.9616, -0.3230,  0.4241, -0.6601, -0.3478],\n",
       "        [ 0.2915,  0.2277,  0.2955, -1.1623, -0.2087,  0.5163, -0.7883, -0.6909],\n",
       "        [-0.0845,  0.6287,  0.0120, -1.0209, -0.2831,  0.5687, -0.7903, -0.4023],\n",
       "        [ 0.2035,  0.3508,  0.0414, -1.3888, -0.1863,  0.6764, -0.8606, -0.6936]])"
      ]
     },
     "execution_count": 15,
     "metadata": {},
     "output_type": "execute_result"
    }
   ],
   "source": [
    "a1_eq"
   ]
  },
  {
   "cell_type": "code",
   "execution_count": 4,
   "id": "c511b449-60a4-43bb-bd65-e8153dee9514",
   "metadata": {},
   "outputs": [
    {
     "data": {
      "text/plain": [
       "15"
      ]
     },
     "execution_count": 4,
     "metadata": {},
     "output_type": "execute_result"
    }
   ],
   "source": [
    "X.size()[0]"
   ]
  },
  {
   "cell_type": "code",
   "execution_count": 23,
   "id": "6632ac09-bf7e-473f-91e5-ae688c214f65",
   "metadata": {},
   "outputs": [
    {
     "data": {
      "text/plain": [
       "tensor([[-0.0874],\n",
       "        [ 0.0077],\n",
       "        [ 0.0467],\n",
       "        [-0.0368],\n",
       "        [-0.0522],\n",
       "        [-0.0352],\n",
       "        [-0.0660],\n",
       "        [-0.1449],\n",
       "        [-0.0448],\n",
       "        [-0.0585],\n",
       "        [-0.0644],\n",
       "        [ 0.0251],\n",
       "        [-0.0828],\n",
       "        [ 0.0262],\n",
       "        [-0.0222]])"
      ]
     },
     "execution_count": 23,
     "metadata": {},
     "output_type": "execute_result"
    }
   ],
   "source": [
    "y.detach()"
   ]
  },
  {
   "cell_type": "code",
   "execution_count": 26,
   "id": "07f5aebc-0314-42e3-9f88-312282191dbc",
   "metadata": {},
   "outputs": [
    {
     "name": "stdout",
     "output_type": "stream",
     "text": [
      "Outputs using pytorch and loop are same: False\n"
     ]
    }
   ],
   "source": [
    "loop_y = torch.zeros_like(y)\n",
    "\n",
    "for i in range(X.size()[0]):\n",
    "    loop_y[i] = net(X[i])\n",
    "\n",
    "print(loop_y)"
   ]
  },
  {
   "cell_type": "code",
   "execution_count": 27,
   "id": "e075a826-403d-4fad-b15c-c8478abf7083",
   "metadata": {},
   "outputs": [
    {
     "data": {
      "text/plain": [
       "tensor([[-0.0874],\n",
       "        [ 0.0077],\n",
       "        [ 0.0467],\n",
       "        [-0.0368],\n",
       "        [-0.0522],\n",
       "        [-0.0352],\n",
       "        [-0.0660],\n",
       "        [-0.1449],\n",
       "        [-0.0448],\n",
       "        [-0.0585],\n",
       "        [-0.0644],\n",
       "        [ 0.0251],\n",
       "        [-0.0828],\n",
       "        [ 0.0262],\n",
       "        [-0.0222]])"
      ]
     },
     "execution_count": 27,
     "metadata": {},
     "output_type": "execute_result"
    }
   ],
   "source": [
    "loop_y.detach()"
   ]
  }
 ],
 "metadata": {
  "kernelspec": {
   "display_name": "Python 3 (ipykernel)",
   "language": "python",
   "name": "python3"
  },
  "language_info": {
   "codemirror_mode": {
    "name": "ipython",
    "version": 3
   },
   "file_extension": ".py",
   "mimetype": "text/x-python",
   "name": "python",
   "nbconvert_exporter": "python",
   "pygments_lexer": "ipython3",
   "version": "3.11.9"
  }
 },
 "nbformat": 4,
 "nbformat_minor": 5
}